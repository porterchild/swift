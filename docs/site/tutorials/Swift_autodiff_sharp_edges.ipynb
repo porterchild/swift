{
  "nbformat": 4,
  "nbformat_minor": 0,
  "metadata": {
    "colab": {
      "name": "Swift autodiff sharp edges.ipynb",
      "provenance": []
    },
    "kernelspec": {
      "name": "python3",
      "display_name": "Python 3"
    }
  },
  "cells": [
    {
      "cell_type": "markdown",
      "metadata": {
        "id": "JNwMxwcaa05q"
      },
      "source": [
        "# Sharp edges in Differentiable Swift\n",
        "Differentiable Swift has come a long way in terms of usability. Here is a heads-up about the parts that are still a little un-obvious. As progress continues, this guide will become smaller and smaller, and you'll be able to write differentiable code without needing special syntax.\n"
      ]
    },
    {
      "cell_type": "markdown",
      "metadata": {
        "id": "_LTY5_lZbLMU"
      },
      "source": [
        "##Loops\n",
        "\n",
        "Loops are differentiable, there's just one detail to know about. When you write the loop, wrap the bit where you specify what you're looping over in `withoutDerivative(at:)`\n",
        "\n",
        " ```swift\n",
        "var a: [Float] = [1,2,3]\n",
        "```\n",
        "for example:\n",
        "```swift\n",
        "for _ in a.indices\n",
        "{}\n",
        "```\n",
        "becomes\n",
        "```swift\n",
        "for _ in withoutDerivative(at: a.indices)\n",
        "{}\n",
        "```\n",
        "\n",
        "or:\n",
        "```swift\n",
        "for _ in 0..<a.count\n",
        "{}\n",
        "```\n",
        "becomes\n",
        "```swift\n",
        "for _ in 0..<withoutDerivative(at: a.count)\n",
        "{}\n",
        "```\n",
        "\n",
        "This is necessary because the `Array.count` member doesn't contribute to the derivative with respect to the array.\n",
        "Only the actual elements in the array contribute to the derivative.\n",
        "\n",
        "If you've got a loop where you manually use an integer as the upper bound, there's no need to use `withoutDerivative(at:)`:\n",
        "\n",
        "```swift\n",
        "let iterations: Int = 10\n",
        "for _ in 0..<iterations {} //this is fine as-is.\n",
        "```"
      ]
    },
    {
      "cell_type": "markdown",
      "metadata": {
        "id": "GBuKyDDVcb8M"
      },
      "source": [
        "##Map and Reduce\n",
        "`map` and `reduce` have special differentiable versions that work exactly the same as what you're used to:\n",
        "```swift\n",
        "_ = a.differentiableMap {$0 + 1}\n",
        "_ = a.differentiableReduce(0, +)\n",
        "```"
      ]
    },
    {
      "cell_type": "markdown",
      "metadata": {
        "id": "qhHxI3xwck9j"
      },
      "source": [
        "##Array subscript sets\n",
        "Array subscript sets (`array[0] = 0`) aren't differentiable out of the box, but you can paste this extension:\n",
        "```swift\n",
        "public extension Array where Element: Differentiable {\n",
        "    @differentiable(where Element: Differentiable)\n",
        "    mutating func updated(at index: Int, with newValue: Element) {\n",
        "        self[index] = newValue\n",
        "    }\n",
        "    \n",
        "    @derivative(of: updated)\n",
        "    mutating func vjpUpdated(at index: Int, with newValue: Element)\n",
        "      -> (value: Void, pullback: (inout TangentVector) -> (Element.TangentVector))\n",
        "    {\n",
        "        self.updated(at: index, with: newValue)\n",
        "        return ((), { v in\n",
        "            let dElement = v[index]\n",
        "            v.base[index] = .zero\n",
        "            return dElement\n",
        "        })\n",
        "    }\n",
        "}\n",
        "```\n",
        "and then the workaround syntax is like this:\n",
        "```swift\n",
        "var b: [Float] = [1,2,3]\n",
        "```\n",
        "\n",
        "instead of this:\n",
        "```swift\n",
        "b[0] = 17\n",
        "```\n",
        "write this:\n",
        "```swift\n",
        "b.updated(at: 0, with: 17)\n",
        "```\n",
        "\n",
        "here is the link to see progress on making this workaround unnecessary: https://bugs.swift.org/browse/TF-1277 (it talks about Array.subscript._modify, which is what's called behind the scenes when you do an array subscript set)."
      ]
    },
    {
      "cell_type": "markdown",
      "metadata": {
        "id": "8-iaCECXd-op"
      },
      "source": [
        "##Boolean `||` and `&&`\n",
        "Boolean `||` and `&&` aren't differentiable out of the box, but you can use this extension:\n",
        "```swift\n",
        "extension Bool{\n",
        "    public static func and(_ a: Bool, _ b: Bool) -> Bool {\n",
        "        if a {\n",
        "            if b {\n",
        "                return true\n",
        "            }\n",
        "        }\n",
        "        return false\n",
        "    }\n",
        "    \n",
        "    public static func or(_ a: Bool, _ b: Bool) -> Bool {\n",
        "        if a { return true }\n",
        "        if b { return true }\n",
        "        return false\n",
        "    }\n",
        "}\n",
        "```\n",
        "\n",
        "\n",
        "and then the workaround syntax is as follows:\n",
        "```swift\n",
        "var condition1 = true\n",
        "var condition2 = true\n",
        "```\n",
        "\n",
        "\n",
        "instead of this:\n",
        "```swift\n",
        "if condition1 || condition2 {\n",
        "  //do things\n",
        "}\n",
        "```\n",
        "write this:\n",
        "```swift\n",
        "if Bool.or(condition1, condition2) {\n",
        "  //do things\n",
        "}\n",
        "```\n",
        "(and similarly for `Bool.and`)"
      ]
    },
    {
      "cell_type": "markdown",
      "metadata": {
        "id": "nU5-Mheme8Aj"
      },
      "source": [
        "##`Float` <-> `Double` conversions\n",
        "If you're switching between `Float` and `Double`, their constructors aren't already differentiable. Here's a function that will let you go from a `Float` to a `Double` differentiably.\n",
        "\n",
        "(Switch `Float` and `Double` in the below code, and you've got a function that converts from `Double` to `Float`.)\n",
        "```swift\n",
        "@differentiable\n",
        "public func convertToDouble(_ a: Float) -> Double {\n",
        "    return Double(a)\n",
        "}\n",
        "\n",
        "@usableFromInline @derivative(of: convertToDouble)\n",
        "func convertToDoubleVJP(_ a: Float) -> (value: Double, pullback: (Double) -> Float) {\n",
        "    func pullback(_ v: Double) -> Float{\n",
        "        return Float(v)\n",
        "    }\n",
        "    return (value: Double(a), pullback: pullback)\n",
        "}\n",
        "```"
      ]
    },
    {
      "cell_type": "markdown",
      "metadata": {
        "id": "hR-ED1-Jf1aH"
      },
      "source": [
        "##Transcendental and other functions (sin, cos, abs, max)\n",
        "A lot of transcendentals and other common built-in functions have already been made differentiable for `Float` and `Double`. There are fewer for `Double` than `Float`. Some aren't available for either. So here are a few manual derivative definitions to give you the idea of how to make what you need, in case it isn't already provided:\n",
        "\n",
        "pow (see [link](https://www.wolframalpha.com/input/?i=partial+derivatives+of+f%28x%2Cy%29+%3D+x%5Ey) for derivative explanation)\n",
        "```swift\n",
        "@usableFromInline\n",
        "@derivative(of: pow) \n",
        "func powVJP(_ base: Double, _ exponent: Double) -> (value: Double, pullback: (Double) -> (Double, Double)) {\n",
        "    let output: Double = pow(base, exponent)\n",
        "    func pullback(_ vector: Double) -> (Double, Double) {\n",
        "        let baseDerivative = vector * (exponent * pow(base, exponent - 1))\n",
        "        let exponentDerivative = vector * output * log(base)\n",
        "        return (baseDerivative, exponentDerivative)\n",
        "    }\n",
        "\n",
        "    return (value: output, pullback: pullback)\n",
        "}\n",
        "```\n",
        "\n",
        "\n",
        "max\n",
        "```swift\n",
        "@usableFromInline\n",
        "@derivative(of: max)\n",
        "func maxVJP<T: Comparable & Differentiable>(_ x: T, _ y: T) -> (value: T, pullback: (T.TangentVector)\n",
        "  -> (T.TangentVector, T.TangentVector))\n",
        "{\n",
        "    func pullback(_ v: T.TangentVector) -> (T.TangentVector, T.TangentVector) {\n",
        "        if x < y {\n",
        "            return (.zero, v)\n",
        "        } else {\n",
        "            return (v, .zero)\n",
        "        }\n",
        "    }\n",
        "    return (value: max(x, y), pullback: pullback)\n",
        "}\n",
        "```\n",
        "\n",
        "abs\n",
        "```swift\n",
        "@usableFromInline\n",
        "@derivative(of: abs)\n",
        "func absVJP<T: Comparable & SignedNumeric & Differentiable>(_ x: T)\n",
        "  -> (value: T, pullback: (T.TangentVector) -> T.TangentVector)\n",
        "{\n",
        "    func pullback(_ v: T.TangentVector) -> T.TangentVector{\n",
        "        if x < 0 {\n",
        "            return .zero - v\n",
        "        }\n",
        "        else {\n",
        "            return v\n",
        "        }\n",
        "    }\n",
        "    return (value: abs(x), pullback: pullback)\n",
        "}\n",
        "```\n",
        "sqrt (see [link](https://www.wolframalpha.com/input/?i=partial+derivative+of+f%28x%29+%3D+sqrt%28x%29) for derivative explanation)\n",
        "```swift\n",
        "@usableFromInline\n",
        "@derivative(of: sqrt) \n",
        "func sqrtVJP(_ x: Double) -> (value: Double, pullback: (Double) -> Double) {\n",
        "    let output = sqrt(x)\n",
        "    func pullback(_ v: Double) -> Double {\n",
        "        return v / (2 * output)\n",
        "    }\n",
        "    return (value: output, pullback: pullback)\n",
        "}\n",
        "```\n",
        "The compiler error that alerts you to the need for something like this is: `Expression is not differentiable - 1. Cannot differentiate functions that have not been marked '@differentiable' and that are defined in other files`\n"
      ]
    },
    {
      "cell_type": "markdown",
      "metadata": {
        "id": "ZaBX70wGjlZ9"
      },
      "source": [
        "##`KeyPath` subscripting\n",
        "`KeyPath` subscripting (get or set) doesn't work out of the box, but once again, there are some extensions you can add, and then use a workaround syntax. Here it is:\n",
        "\n",
        "https://github.com/tensorflow/swift/issues/530#issuecomment-687400701\n",
        "\n",
        "This workaround is a little uglier than the others. It only works for custom objects, which must conform to Differentiable and AdditiveArithmetic. You have to add a `.tmp` member and a `.read()` function, and you use the `.tmp` member as intermediate storage when doing `KeyPath` subscript gets (there is an example in the linked code). `KeyPath` subscript sets work pretty simply with a `.write()` function.\n"
      ]
    }
  ]
}
